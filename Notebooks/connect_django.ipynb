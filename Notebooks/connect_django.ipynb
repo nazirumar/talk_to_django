{
 "cells": [
  {
   "cell_type": "code",
   "execution_count": 1,
   "metadata": {},
   "outputs": [
    {
     "name": "stderr",
     "output_type": "stream",
     "text": [
      "/home/nazk33r/Documents/LLM/.venv/lib/python3.12/site-packages/tqdm/auto.py:21: TqdmWarning: IProgress not found. Please update jupyter and ipywidgets. See https://ipywidgets.readthedocs.io/en/stable/user_install.html\n",
      "  from .autonotebook import tqdm as notebook_tqdm\n"
     ]
    }
   ],
   "source": [
    "import setup\n",
    "from transformers import BertTokenizer, BertModel\n",
    "import torch\n",
    "\n",
    "setup.init_django()\n",
    "from decouple import config"
   ]
  },
  {
   "cell_type": "code",
   "execution_count": 20,
   "metadata": {},
   "outputs": [],
   "source": [
    "# Load pre-trained model and tokenizer\n",
    "tokenizer = BertTokenizer.from_pretrained('bert-base-uncased')\n",
    "model = BertModel.from_pretrained('bert-base-uncased', output_hidden_states=True)\n"
   ]
  },
  {
   "cell_type": "code",
   "execution_count": 3,
   "metadata": {},
   "outputs": [],
   "source": [
    "from blog.models import BlogPost, EMBEDDING_MODEL"
   ]
  },
  {
   "cell_type": "code",
   "execution_count": 4,
   "metadata": {},
   "outputs": [],
   "source": [
    "RECREATE_DATE = True"
   ]
  },
  {
   "cell_type": "code",
   "execution_count": 5,
   "metadata": {},
   "outputs": [],
   "source": [
    "docs = [\n",
    "    \"The brown dog barked loudly at the passing car.\",\n",
    "    \"A small cat climbed up the tall green tree.\",\n",
    "    \"The man walked quickly to catch the morning train.\",\n",
    "    \"A woman in red dress danced gracefully under the moonlight.\"\n",
    "]\n"
   ]
  },
  {
   "cell_type": "code",
   "execution_count": 6,
   "metadata": {},
   "outputs": [],
   "source": [
    "new_data = []\n",
    "for i, x in enumerate(docs):\n",
    "    new_data.append(BlogPost(title=f\"Blog Post {i+1}\", content=x, can_delete=True))\n",
    "\n",
    "if RECREATE_DATE:\n",
    "    qs = BlogPost.objects.filter(can_delete=True)\n",
    "    qs.delete()\n",
    "    BlogPost.objects.bulk_create(new_data)"
   ]
  },
  {
   "cell_type": "code",
   "execution_count": 7,
   "metadata": {},
   "outputs": [
    {
     "data": {
      "text/plain": [
       "4"
      ]
     },
     "execution_count": 7,
     "metadata": {},
     "output_type": "execute_result"
    }
   ],
   "source": [
    "BlogPost.objects.all().count()"
   ]
  },
  {
   "cell_type": "code",
   "execution_count": 8,
   "metadata": {},
   "outputs": [],
   "source": [
    "def get_embedding(text):\n",
    "    text = text.replace(\"\\n\", \" \").strip()\n",
    "    inputs = tokenizer(text, return_tensors='pt')\n",
    "    outputs = model(**inputs)\n",
    "    # Get the mean of the embeddings for the tokens in the sentence\n",
    "    embedding = outputs.last_hidden_state.mean(dim=1).squeeze().detach().numpy()\n",
    "    return embedding\n"
   ]
  },
  {
   "cell_type": "code",
   "execution_count": 9,
   "metadata": {},
   "outputs": [],
   "source": [
    "for obj in qs:\n",
    "    if obj.embedding is None:\n",
    "        obj.embedding = get_embedding(obj.get_embedding_text_raw())\n",
    "        obj.save()\n"
   ]
  },
  {
   "cell_type": "code",
   "execution_count": 10,
   "metadata": {},
   "outputs": [],
   "source": [
    "# query = \"The brown dog barked loudly at the passing car.\"\n",
    "query = \"A woman in red dress danced gracefully under the moonlight.\"\n",
    "query_embedding = get_embedding(query)\n"
   ]
  },
  {
   "cell_type": "code",
   "execution_count": 11,
   "metadata": {},
   "outputs": [
    {
     "name": "stdout",
     "output_type": "stream",
     "text": [
      "Blog Post 4 0.0 100.0\n",
      "Blog Post 2 0.27707501523614475 72.29249847638553\n"
     ]
    }
   ],
   "source": [
    "from pgvector.django import CosineDistance\n",
    "from django.db.models import F, FloatField\n",
    "qs = BlogPost.objects.annotate(\n",
    "    distance=CosineDistance('embedding',query_embedding),\n",
    "    similarity=1 - F(\"distance\")\n",
    "    ).order_by('distance')[:2]\n",
    "for obj in qs:\n",
    "    print(obj.title, obj.distance,obj.similarity * 100)"
   ]
  },
  {
   "cell_type": "code",
   "execution_count": 16,
   "metadata": {},
   "outputs": [],
   "source": [
    "from products.models import Embedding"
   ]
  },
  {
   "cell_type": "code",
   "execution_count": 19,
   "metadata": {},
   "outputs": [
    {
     "ename": "AttributeError",
     "evalue": "'NoneType' object has no attribute 'title'",
     "output_type": "error",
     "traceback": [
      "\u001b[0;31m---------------------------------------------------------------------------\u001b[0m",
      "\u001b[0;31mAttributeError\u001b[0m                            Traceback (most recent call last)",
      "Cell \u001b[0;32mIn[19], line 8\u001b[0m\n\u001b[1;32m      3\u001b[0m qs \u001b[38;5;241m=\u001b[39m Embedding\u001b[38;5;241m.\u001b[39mobjects\u001b[38;5;241m.\u001b[39mannotate(\n\u001b[1;32m      4\u001b[0m     distance\u001b[38;5;241m=\u001b[39mCosineDistance(\u001b[38;5;124m'\u001b[39m\u001b[38;5;124membedding\u001b[39m\u001b[38;5;124m'\u001b[39m,query_embedding),\n\u001b[1;32m      5\u001b[0m     similarity\u001b[38;5;241m=\u001b[39m\u001b[38;5;241m1\u001b[39m \u001b[38;5;241m-\u001b[39m F(\u001b[38;5;124m\"\u001b[39m\u001b[38;5;124mdistance\u001b[39m\u001b[38;5;124m\"\u001b[39m)\n\u001b[1;32m      6\u001b[0m     )\u001b[38;5;241m.\u001b[39morder_by(\u001b[38;5;124m'\u001b[39m\u001b[38;5;124mdistance\u001b[39m\u001b[38;5;124m'\u001b[39m)[:\u001b[38;5;241m2\u001b[39m]\n\u001b[1;32m      7\u001b[0m \u001b[38;5;28;01mfor\u001b[39;00m obj \u001b[38;5;129;01min\u001b[39;00m qs:\n\u001b[0;32m----> 8\u001b[0m     \u001b[38;5;28mprint\u001b[39m(obj\u001b[38;5;241m.\u001b[39mobject_id, obj\u001b[38;5;241m.\u001b[39mcontent_object, \u001b[43mobj\u001b[49m\u001b[38;5;241;43m.\u001b[39;49m\u001b[43mcontent_object\u001b[49m\u001b[38;5;241;43m.\u001b[39;49m\u001b[43mtitle\u001b[49m, obj\u001b[38;5;241m.\u001b[39mdistance, obj\u001b[38;5;241m.\u001b[39msimilarity \u001b[38;5;241m*\u001b[39m \u001b[38;5;241m100\u001b[39m)\n",
      "\u001b[0;31mAttributeError\u001b[0m: 'NoneType' object has no attribute 'title'"
     ]
    }
   ],
   "source": [
    "from pgvector.django import CosineDistance\n",
    "from django.db.models import F, FloatField\n",
    "qs = Embedding.objects.annotate(\n",
    "    distance=CosineDistance('embedding',query_embedding),\n",
    "    similarity=1 - F(\"distance\")\n",
    "    ).order_by('distance')[:2]\n",
    "for obj in qs:\n",
    "    print(obj.object_id, obj.content_object, obj.content_object.title, obj.distance, obj.similarity * 100)"
   ]
  }
 ],
 "metadata": {
  "kernelspec": {
   "display_name": ".venv",
   "language": "python",
   "name": "python3"
  },
  "language_info": {
   "codemirror_mode": {
    "name": "ipython",
    "version": 3
   },
   "file_extension": ".py",
   "mimetype": "text/x-python",
   "name": "python",
   "nbconvert_exporter": "python",
   "pygments_lexer": "ipython3",
   "version": "3.12.4"
  }
 },
 "nbformat": 4,
 "nbformat_minor": 2
}
